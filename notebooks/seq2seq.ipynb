{
 "cells": [
  {
   "cell_type": "code",
   "execution_count": 1,
   "id": "799aba20-ea97-49e2-a08c-c0b924fbaff7",
   "metadata": {},
   "outputs": [],
   "source": [
    "import pandas as pd\n",
    "\n",
    "import torch\n",
    "import torch.nn as nn\n",
    "from torch import optim\n",
    "import torch.nn.functional as F\n",
    "\n",
    "device = torch.device(\"cuda\" if torch.cuda.is_available() else \"cpu\")"
   ]
  },
  {
   "cell_type": "markdown",
   "id": "377017ac-0dfa-465a-a4f3-251ef3fa159a",
   "metadata": {},
   "source": [
    "# Prepare Data"
   ]
  },
  {
   "cell_type": "code",
   "execution_count": 2,
   "id": "eacbd541-9d32-4a28-9686-f5d93841ff32",
   "metadata": {},
   "outputs": [],
   "source": [
    "str_col = ['reference', 'translation']\n",
    "num_col = ['ref_tox', 'trn_tox', 'similarity', 'lenght_diff']\n",
    "\n",
    "data = pd.read_csv(\"data/interim/preprocessed_filtered_1.tsv\", sep='\\t', index_col=0)"
   ]
  },
  {
   "cell_type": "code",
   "execution_count": 3,
   "id": "7470b62d-4db6-4174-92db-8406cf2cc68d",
   "metadata": {},
   "outputs": [
    {
     "name": "stdout",
     "output_type": "stream",
     "text": [
      "<class 'pandas.core.frame.DataFrame'>\n",
      "Int64Index: 577777 entries, 0 to 577776\n",
      "Data columns (total 6 columns):\n",
      " #   Column       Non-Null Count   Dtype  \n",
      "---  ------       --------------   -----  \n",
      " 0   reference    577777 non-null  object \n",
      " 1   translation  577777 non-null  object \n",
      " 2   ref_tox      577777 non-null  float64\n",
      " 3   trn_tox      577777 non-null  float64\n",
      " 4   similarity   577777 non-null  float64\n",
      " 5   length_diff  577777 non-null  float64\n",
      "dtypes: float64(4), object(2)\n",
      "memory usage: 30.9+ MB\n"
     ]
    }
   ],
   "source": [
    "data.info()"
   ]
  },
  {
   "cell_type": "markdown",
   "id": "6278e7cc-f8dd-4db2-9f40-e2449c8588e8",
   "metadata": {},
   "source": [
    "# Prepare Dataloader"
   ]
  },
  {
   "cell_type": "code",
   "execution_count": 4,
   "id": "9d5f0bf3-f4b3-41d9-93d4-39f4d1363393",
   "metadata": {},
   "outputs": [],
   "source": [
    "from src.data.make_dataset import prepareData, get_dataloader, tensorFromSentence"
   ]
  },
  {
   "cell_type": "markdown",
   "id": "05ada441-0e6e-4c0b-9d77-17ec303f63ca",
   "metadata": {},
   "source": [
    "# Architecture of seq2seq model"
   ]
  },
  {
   "cell_type": "code",
   "execution_count": 5,
   "id": "11a97a8e-be2b-46c6-929a-d7c4d6a37d5a",
   "metadata": {},
   "outputs": [],
   "source": [
    "from src.models.seq2seq import Seq2Seq, Encoder, Decoder"
   ]
  },
  {
   "cell_type": "markdown",
   "id": "64c277c8-f7a7-4eec-9dc9-b9a3d4609029",
   "metadata": {},
   "source": [
    "# Train model"
   ]
  },
  {
   "cell_type": "code",
   "execution_count": 6,
   "id": "7480ea57-d859-42a2-8746-f07d419d46bb",
   "metadata": {},
   "outputs": [],
   "source": [
    "from src.models.train_model import train"
   ]
  },
  {
   "cell_type": "code",
   "execution_count": 7,
   "id": "46f2673e-cfe6-4a16-bf9e-2aa6f3b15a36",
   "metadata": {},
   "outputs": [
    {
     "name": "stdout",
     "output_type": "stream",
     "text": [
      "Counted words:\n",
      "tox-vocab 43165\n",
      "detox-vocab 37970\n"
     ]
    }
   ],
   "source": [
    "epochs = 10\n",
    "embed_size = 256\n",
    "hidden_size = 256\n",
    "batch_size = 128\n",
    "lr = 1e-3\n",
    "MAX_LENGTH = 16\n",
    "model_path = \"seq2seq.pt\"\n",
    "\n",
    "teacher_force = 1\n",
    "teacher_decay = 0.9\n",
    "teacher_epoch = 2\n",
    "\n",
    "vocab_tox, vocab_detox, pairs = prepareData(data, MAX_LENGTH)\n",
    "train_dataloader, val_dataloader = get_dataloader(batch_size, vocab_tox, vocab_detox, pairs, MAX_LENGTH, device=device)"
   ]
  },
  {
   "cell_type": "code",
   "execution_count": 8,
   "id": "03d2717d-25e6-4deb-82db-7e60316caff3",
   "metadata": {},
   "outputs": [
    {
     "name": "stdout",
     "output_type": "stream",
     "text": [
      "32.107858 Million parameters\n"
     ]
    },
    {
     "name": "stderr",
     "output_type": "stream",
     "text": [
      "Epoch 1: train: 100%|██████████| 2542/2542 [02:02<00:00, 20.72it/s, loss=3.58]\n",
      "Epoch 1: val: 100%|██████████| 283/283 [00:05<00:00, 54.50it/s, loss=5.44]\n",
      "Epoch 2: train: 100%|██████████| 2542/2542 [02:00<00:00, 21.11it/s, loss=2.56]\n",
      "Epoch 2: val: 100%|██████████| 283/283 [00:05<00:00, 55.21it/s, loss=5.31]\n",
      "Epoch 3: train: 100%|██████████| 2542/2542 [02:00<00:00, 21.08it/s, loss=2.39]\n",
      "Epoch 3: val: 100%|██████████| 283/283 [00:05<00:00, 56.37it/s, loss=4.61]\n",
      "Epoch 4: train: 100%|██████████| 2542/2542 [02:00<00:00, 21.07it/s, loss=2.19]\n",
      "Epoch 4: val: 100%|██████████| 283/283 [00:04<00:00, 56.62it/s, loss=4.54]\n",
      "Epoch 5: train: 100%|██████████| 2542/2542 [02:01<00:00, 20.92it/s, loss=2.18]\n",
      "Epoch 5: val: 100%|██████████| 283/283 [00:05<00:00, 56.42it/s, loss=4.29]\n",
      "Epoch 6: train: 100%|██████████| 2542/2542 [02:03<00:00, 20.63it/s, loss=2.07]\n",
      "Epoch 6: val: 100%|██████████| 283/283 [00:05<00:00, 56.47it/s, loss=4.26]\n",
      "Epoch 7: train: 100%|██████████| 2542/2542 [02:04<00:00, 20.34it/s, loss=2.11]\n",
      "Epoch 7: val: 100%|██████████| 283/283 [00:05<00:00, 55.91it/s, loss=4.09]\n",
      "Epoch 8: train: 100%|██████████| 2542/2542 [02:04<00:00, 20.41it/s, loss=2.05]\n",
      "Epoch 8: val: 100%|██████████| 283/283 [00:05<00:00, 56.12it/s, loss=4.17]\n",
      "Epoch 9: train: 100%|██████████| 2542/2542 [02:05<00:00, 20.29it/s, loss=2.08]\n",
      "Epoch 9: val: 100%|██████████| 283/283 [00:05<00:00, 55.74it/s, loss=3.98]\n",
      "Epoch 10: train: 100%|██████████| 2542/2542 [02:02<00:00, 20.69it/s, loss=2.04]\n",
      "Epoch 10: val: 100%|██████████| 283/283 [00:05<00:00, 55.60it/s, loss=3.94]\n"
     ]
    }
   ],
   "source": [
    "encoder = Encoder(vocab_tox.n_words, embed_size, hidden_size, vocab_tox, device=device, max_length=MAX_LENGTH)\n",
    "decoder = Decoder(embed_size, hidden_size, vocab_detox.n_words, vocab_detox, device=device, max_length=MAX_LENGTH)\n",
    "seq2seq_model = Seq2Seq(encoder, decoder).to(device)\n",
    "\n",
    "optimizer = optim.Adam(seq2seq_model.parameters(), lr=lr)\n",
    "criterion = nn.CrossEntropyLoss(ignore_index=vocab_detox.word2index['<pad>'])\n",
    "\n",
    "print(sum(p.numel() for p in seq2seq_model.parameters())/1e6, 'Million parameters')\n",
    "\n",
    "loss_train, loss_val = train(\n",
    "    seq2seq_model, \n",
    "    train_dataloader, \n",
    "    val_dataloader, \n",
    "    optimizer=optimizer, \n",
    "    criterion=criterion, \n",
    "    epochs=epochs, \n",
    "    lr=lr, \n",
    "    model_path=model_path,\n",
    "    teacher_force=teacher_force,\n",
    "    teacher_decay=teacher_decay,\n",
    "    teacher_epoch=teacher_epoch,\n",
    ")"
   ]
  },
  {
   "cell_type": "markdown",
   "id": "d5a0670f-4ab2-41f0-9edd-fbf62b57f2c1",
   "metadata": {},
   "source": [
    "# Plot loss"
   ]
  },
  {
   "cell_type": "code",
   "execution_count": 9,
   "id": "8aac2700-5f16-4b05-96a7-ff736a26bbb0",
   "metadata": {},
   "outputs": [
    {
     "data": {
      "image/png": "[encoded data removed]",
      "text/plain": [
       "<Figure size 640x480 with 1 Axes>"
      ]
     },
     "metadata": {},
     "output_type": "display_data"
    }
   ],
   "source": [
    "from src.visualization.visualize import plot_loss\n",
    "\n",
    "plot_loss(loss_train, loss_val, epochs)"
   ]
  },
  {
   "cell_type": "markdown",
   "id": "513b96af-1549-4686-ba55-61441f17fac8",
   "metadata": {},
   "source": [
    "# Check in random sample from dataset"
   ]
  },
  {
   "cell_type": "code",
   "execution_count": 10,
   "id": "91aa7e21-0e5f-4776-9087-9cd62cea1640",
   "metadata": {},
   "outputs": [],
   "source": [
    "def evaluate(model, sentence, vocab_tox, vocab_detox):\n",
    "    with torch.no_grad():\n",
    "        model.eval()\n",
    "        input_tensor = tensorFromSentence(vocab_tox, sentence, device=device)\n",
    "\n",
    "        outputs = model(input_tensor)\n",
    "\n",
    "        _, topi = outputs.topk(1)\n",
    "        ids = topi.squeeze()\n",
    "\n",
    "        words = []\n",
    "        for idx in ids:\n",
    "            if idx.item() == vocab_detox.word2index['<eos>']:\n",
    "                break\n",
    "            words.append(vocab_detox.index2word[idx.item()])\n",
    "    return words"
   ]
  },
  {
   "cell_type": "code",
   "execution_count": 11,
   "id": "0ec4768b-6836-47e5-b044-548bc5d7b74d",
   "metadata": {},
   "outputs": [],
   "source": [
    "import random\n",
    "import string\n",
    "\n",
    "def evaluateRandomly(model, vocab_tox, vocab_detox, n=10):\n",
    "    for i in range(n):\n",
    "        pair = random.choice(pairs)\n",
    "        print('origin:     ', pair[0])\n",
    "        print('translated: ', pair[1])\n",
    "        output_words = evaluate(model, pair[0], vocab_tox, vocab_detox)\n",
    "        output_sentence = \"\".join([\" \"+i if not i.startswith(\"'\") and not i.startswith(\"n'\") and i not in string.punctuation else i for i in output_words]).strip()\n",
    "        print('predicted:  ', output_sentence)\n",
    "        print('')"
   ]
  },
  {
   "cell_type": "code",
   "execution_count": 21,
   "id": "47a3883a-e31a-4094-82dc-548642d89cc9",
   "metadata": {},
   "outputs": [
    {
     "name": "stdout",
     "output_type": "stream",
     "text": [
      "origin:      it is as if connie never gave you a free number .\n",
      "translated:  like you never took a free suck from connie .\n",
      "predicted:   it is like if you never had a free number.\n",
      "\n",
      "origin:      you are going to have to finish me .\n",
      "translated:  you are going to have to finish me off .\n",
      "predicted:   you are going to finish me off.\n",
      "\n",
      "origin:      now i am going to buy it on this rock !\n",
      "translated:  now i am going to buy it on this damn rock !\n",
      "predicted:   now i am going to buy this rock!\n",
      "\n",
      "origin:      it is not the music . it is driving me crazy .\n",
      "translated:  i am going crazy out of this stupid music .\n",
      "predicted:   it is not the music and i will not crazy.\n",
      "\n",
      "origin:      why do they keep watching shari ?\n",
      "translated:  why the hell are they still following ' shari ?\n",
      "predicted:   why do they keep watching the damn shari shari?\n",
      "\n",
      "origin:      yeah , i am down to four .\n",
      "translated:  i have got four bullets .\n",
      "predicted:   yeah, i am four fucking four. four four.\n",
      "\n",
      "origin:      hookers love sharing information about dodgy johns .\n",
      "translated:  whores love sharing information dog johns ( slang for customers )\n",
      "predicted:   prostitutes love information for information information.\n",
      "\n",
      "origin:      and i will put you in it until your knees .\n",
      "translated:  until i ram you in the ankles .\n",
      "predicted:   and i will put you in your hands, your bare ass.\n",
      "\n",
      "origin:      and i do not understand what you are doing .\n",
      "translated:  and i do not know what the fuck you are doing .\n",
      "predicted:   and i do not understand what the hell you are doing.\n",
      "\n",
      "origin:      you are not human . sam :\n",
      "translated:  you are not human .\n",
      "predicted:   you are not human, not a human.\n",
      "\n"
     ]
    }
   ],
   "source": [
    "load_seq2seq_model = torch.load(model_path)\n",
    "\n",
    "load_seq2seq_model.eval()\n",
    "evaluateRandomly(load_seq2seq_model, vocab_tox, vocab_detox)"
   ]
  }
 ],
 "metadata": {
  "kernelspec": {
   "display_name": "Python 3 (ipykernel)",
   "language": "python",
   "name": "python3"
  },
  "language_info": {
   "codemirror_mode": {
    "name": "ipython",
    "version": 3
   },
   "file_extension": ".py",
   "mimetype": "text/x-python",
   "name": "python",
   "nbconvert_exporter": "python",
   "pygments_lexer": "ipython3",
   "version": "3.9.16"
  }
 },
 "nbformat": 4,
 "nbformat_minor": 5
}
