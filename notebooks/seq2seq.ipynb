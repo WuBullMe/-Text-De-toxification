{
 "cells": [
  {
   "cell_type": "code",
   "execution_count": null,
   "id": "799aba20-ea97-49e2-a08c-c0b924fbaff7",
   "metadata": {},
   "outputs": [],
   "source": [
    "import pandas as pd\n",
    "\n",
    "import torch\n",
    "import torch.nn as nn\n",
    "from torch import optim\n",
    "import torch.nn.functional as F\n",
    "\n",
    "import matplotlib.pyplot as plt\n",
    "\n",
    "device = torch.device(\"cuda\" if torch.cuda.is_available() else \"cpu\")"
   ]
  },
  {
   "cell_type": "markdown",
   "id": "377017ac-0dfa-465a-a4f3-251ef3fa159a",
   "metadata": {},
   "source": [
    "# Prepare Data"
   ]
  },
  {
   "cell_type": "code",
   "execution_count": null,
   "id": "eacbd541-9d32-4a28-9686-f5d93841ff32",
   "metadata": {},
   "outputs": [],
   "source": [
    "str_col = ['reference', 'translation']\n",
    "num_col = ['ref_tox', 'trn_tox', 'similarity', 'lenght_diff']\n",
    "\n",
    "data = pd.read_csv(\"data/interim/preprocessed_filtered.tsv\", sep='\\t', index_col=0)"
   ]
  },
  {
   "cell_type": "code",
   "execution_count": null,
   "id": "7470b62d-4db6-4174-92db-8406cf2cc68d",
   "metadata": {},
   "outputs": [],
   "source": [
    "data.info()"
   ]
  },
  {
   "cell_type": "markdown",
   "id": "6278e7cc-f8dd-4db2-9f40-e2449c8588e8",
   "metadata": {},
   "source": [
    "# Prepare Dataloader"
   ]
  },
  {
   "cell_type": "code",
   "execution_count": null,
   "id": "9d5f0bf3-f4b3-41d9-93d4-39f4d1363393",
   "metadata": {},
   "outputs": [],
   "source": [
    "from src.data.utils import prepareData, get_dataloader, tensorFromSentence"
   ]
  },
  {
   "cell_type": "markdown",
   "id": "05ada441-0e6e-4c0b-9d77-17ec303f63ca",
   "metadata": {},
   "source": [
    "# Architecture of seq2seq model"
   ]
  },
  {
   "cell_type": "code",
   "execution_count": null,
   "id": "11a97a8e-be2b-46c6-929a-d7c4d6a37d5a",
   "metadata": {},
   "outputs": [],
   "source": [
    "from src.models.seq2seq import Seq2Seq, Encoder, Decoder"
   ]
  },
  {
   "cell_type": "markdown",
   "id": "64c277c8-f7a7-4eec-9dc9-b9a3d4609029",
   "metadata": {},
   "source": [
    "# Train model"
   ]
  },
  {
   "cell_type": "code",
   "execution_count": null,
   "id": "7480ea57-d859-42a2-8746-f07d419d46bb",
   "metadata": {},
   "outputs": [],
   "source": [
    "from src.models.train_model import train"
   ]
  },
  {
   "cell_type": "code",
   "execution_count": null,
   "id": "46f2673e-cfe6-4a16-bf9e-2aa6f3b15a36",
   "metadata": {},
   "outputs": [],
   "source": [
    "epochs = 10\n",
    "embed_size = 128\n",
    "hidden_size = 128\n",
    "batch_size = 32\n",
    "lr = 1e-3\n",
    "MAX_LENGTH = 11\n",
    "\n",
    "vocab_tox, vocab_detox, pairs = prepareData(data, MAX_LENGTH)\n",
    "train_dataloader, val_dataloader = get_dataloader(batch_size, vocab_tox, vocab_detox, pairs, MAX_LENGTH, device=device)"
   ]
  },
  {
   "cell_type": "code",
   "execution_count": null,
   "id": "03d2717d-25e6-4deb-82db-7e60316caff3",
   "metadata": {},
   "outputs": [],
   "source": [
    "encoder = Encoder(vocab_tox.n_words, embed_size, hidden_size, vocab_tox, device=device, max_length=MAX_LENGTH)\n",
    "decoder = Decoder(embed_size, hidden_size, vocab_detox.n_words, vocab_detox, device=device, max_length=MAX_LENGTH)\n",
    "seq2seq_model = Seq2Seq(encoder, decoder).to(device)\n",
    "\n",
    "optimizer = optim.Adam(seq2seq_model.parameters(), lr=lr)\n",
    "criterion = nn.CrossEntropyLoss(ignore_index=vocab_tox.word2index['<pad>'])\n",
    "\n",
    "loss_train, loss_val = train(seq2seq_model, train_dataloader, val_dataloader, optimizer=optimizer, criterion=criterion, epochs=epochs, lr=lr, model_path='seq2seq.pt')"
   ]
  },
  {
   "cell_type": "markdown",
   "id": "d5a0670f-4ab2-41f0-9edd-fbf62b57f2c1",
   "metadata": {},
   "source": [
    "# Plot loss"
   ]
  },
  {
   "cell_type": "code",
   "execution_count": null,
   "id": "8aac2700-5f16-4b05-96a7-ff736a26bbb0",
   "metadata": {},
   "outputs": [],
   "source": [
    "plt.plot(range(1, epochs + 1), loss_train, label='Training loss')\n",
    "plt.plot(range(1, epochs + 1), loss_val, label='Validation loss')\n",
    "\n",
    "plt.title('Training and Validation Loss')\n",
    "plt.xlabel('Epochs')\n",
    "plt.ylabel('Loss')\n",
    "\n",
    "plt.legend(loc='best')\n",
    "plt.show()"
   ]
  },
  {
   "cell_type": "markdown",
   "id": "513b96af-1549-4686-ba55-61441f17fac8",
   "metadata": {},
   "source": [
    "# Check in random sample from dataset"
   ]
  },
  {
   "cell_type": "code",
   "execution_count": null,
   "id": "91aa7e21-0e5f-4776-9087-9cd62cea1640",
   "metadata": {},
   "outputs": [],
   "source": [
    "def evaluate(model, sentence, vocab_tox, vocab_detox):\n",
    "    with torch.no_grad():\n",
    "        model.eval()\n",
    "        input_tensor = tensorFromSentence(vocab_tox, sentence, device=device)\n",
    "\n",
    "        outputs = model(input_tensor)\n",
    "\n",
    "        _, topi = outputs.topk(1)\n",
    "        ids = topi.squeeze()\n",
    "\n",
    "        words = []\n",
    "        for idx in ids:\n",
    "            if idx.item() == vocab_tox.word2index['<eos>']:\n",
    "                break\n",
    "            words.append(vocab_detox.index2word[idx.item()])\n",
    "    return words"
   ]
  },
  {
   "cell_type": "code",
   "execution_count": null,
   "id": "0ec4768b-6836-47e5-b044-548bc5d7b74d",
   "metadata": {},
   "outputs": [],
   "source": [
    "def evaluateRandomly(model, vocab_tox, vocab_detox, n=10):\n",
    "    for i in range(n):\n",
    "        pair = random.choice(pairs)\n",
    "        print('origin:     ', pair[0])\n",
    "        print('translated: ', pair[1])\n",
    "        output_words = evaluate(model, pair[0], vocab_tox, vocab_detox)\n",
    "        output_sentence = \"\".join([\" \"+i if not i.startswith(\"'\") and not i.startswith(\"n'\") and i not in string.punctuation else i for i in output_words]).strip()\n",
    "        print('predicted:  ', output_sentence)\n",
    "        print('')"
   ]
  },
  {
   "cell_type": "code",
   "execution_count": null,
   "id": "47a3883a-e31a-4094-82dc-548642d89cc9",
   "metadata": {},
   "outputs": [],
   "source": [
    "load_seq2seq_model = torch.load(\"seq2seq.pt\")\n",
    "\n",
    "load_seq2seq_model.eval()\n",
    "evaluateRandomly(load_seq2seq_model, vocab_tox, vocab_detox)"
   ]
  }
 ],
 "metadata": {
  "kernelspec": {
   "display_name": "Python 3 (ipykernel)",
   "language": "python",
   "name": "python3"
  },
  "language_info": {
   "codemirror_mode": {
    "name": "ipython",
    "version": 3
   },
   "file_extension": ".py",
   "mimetype": "text/x-python",
   "name": "python",
   "nbconvert_exporter": "python",
   "pygments_lexer": "ipython3",
   "version": "3.9.16"
  }
 },
 "nbformat": 4,
 "nbformat_minor": 5
}
